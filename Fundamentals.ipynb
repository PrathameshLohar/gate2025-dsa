{
 "cells": [
  {
   "cell_type": "markdown",
   "metadata": {},
   "source": [
    "# Syllabus\n",
    "### Programming, Data Structures and Algorithms:\n",
    "Programming in Python, basic data structures:stacks, queues, linked lists, trees, hash tables; \\\n",
    "Search algorithms: linear search and binary search,\\\n",
    "basic sorting algorithms: selection sort, bubble sort and insertion sort;\\\n",
    "divide and conquer:\\\n",
    "mergesort, quicksort;\\ \n",
    "introduction to graph theory;\\ \n",
    "basic graph algorithms: traversals and shortestpath.\n"
   ]
  },
  {
   "cell_type": "markdown",
   "metadata": {},
   "source": [
    "## Basics of programming"
   ]
  },
  {
   "cell_type": "markdown",
   "metadata": {},
   "source": [
    "#### Data structures "
   ]
  },
  {
   "cell_type": "markdown",
   "metadata": {},
   "source": [
    "1. Stacks\n",
    "\n",
    "LIFO (Last-In-First-Out) \\\n",
    "Operations:\n",
    "- push: Adds an element to the top of the stack.\n",
    "- pop: Removes and returns the element from the top of the stack.\n",
    "- peek: Returns the top element without removing it.   \n",
    "- isEmpty: Checks if the stack is empty."
   ]
  },
  {
   "cell_type": "code",
   "execution_count": 1,
   "metadata": {},
   "outputs": [],
   "source": [
    "class Stack:\n",
    "    def __init__(self):\n",
    "        self.items = []\n",
    "\n",
    "    def push(self, item):\n",
    "        self.items.append(item)\n",
    "\n",
    "    def pop(self):\n",
    "        if not self.isEmpty():\n",
    "            return self.items.pop()\n",
    "\n",
    "    def peek(self):\n",
    "        if not self.isEmpty():\n",
    "            return self.items[-1]\n",
    "\n",
    "    def isEmpty(self):\n",
    "        return len(self.items) == 0"
   ]
  },
  {
   "cell_type": "markdown",
   "metadata": {},
   "source": [
    "2. Queues\n",
    "\n",
    "FIFO (First-In-First-Out) \\\n",
    "Operations:\n",
    "- enqueue: Adds an element to the rear of the queue.\n",
    "- dequeue: Removes and returns the element from the front of the queue.\n",
    "- peek: Returns the front element without removing it.   \n",
    "- isEmpty: Checks if the queue is empty."
   ]
  },
  {
   "cell_type": "code",
   "execution_count": 2,
   "metadata": {},
   "outputs": [],
   "source": [
    "class Queue:\n",
    "    def __init__(self):\n",
    "        self.items = []\n",
    "\n",
    "    def enqueue(self, item):\n",
    "        self.items.insert(0, item)\n",
    "\n",
    "    def dequeue(self):\n",
    "        if not self.isEmpty():\n",
    "            return self.items.pop()\n",
    "\n",
    "    def peek(self):\n",
    "        if not self.isEmpty():\n",
    "            return self.items[-1]\n",
    "\n",
    "    def isEmpty(self):\n",
    "        return len(self.items) == 0"
   ]
  },
  {
   "cell_type": "markdown",
   "metadata": {},
   "source": [
    "3. Linked Lists\n",
    "\n",
    "Nodes connected in a sequence. \\\n",
    "Operations:\n",
    "- insert: Adds a node at a specific position.\n",
    "- delete: Removes a node at a specific position.\n",
    "- search: Finds a node with a given value.\n",
    "- traverse: Iterates through the list."
   ]
  },
  {
   "cell_type": "code",
   "execution_count": null,
   "metadata": {},
   "outputs": [
    {
     "name": "stdout",
     "output_type": "stream",
     "text": [
      "Created Linked List: \n",
      "30 20 10 \n",
      "Appended 40 to the list: \n",
      "30 20 10 40 \n",
      "Inserted 50 after 20: \n",
      "30 20 50 10 40 "
     ]
    }
   ],
   "source": [
    "class Node:\n",
    "    def __init__(self, data):\n",
    "        self.data = data\n",
    "        self.next = None\n",
    "\n",
    "class LinkedList:\n",
    "    def __init__(self):\n",
    "        self.head = None\n",
    "\n",
    "    def push(self, new_data):\n",
    "        new_node = Node(new_data)\n",
    "        new_node.next = self.head\n",
    "        self.head = new_node\n",
    "\n",
    "    def insertAfter(self, prev_node, new_data):\n",
    "        if prev_node is None:\n",
    "            print(\"The given previous node must be in LinkedList\")\n",
    "            return\n",
    "        new_node = Node(new_data)\n",
    "        new_node.next = prev_node.next\n",
    "        prev_node.next = new_node\n",
    "\n",
    "    def append(self, new_data):\n",
    "        new_node = Node(new_data)\n",
    "        if self.head is None:\n",
    "            self.head = new_node\n",
    "            return\n",
    "        last = self.head\n",
    "        while (last.next):\n",
    "            last = last.next\n",
    "        last.next = new_node\n",
    "\n",
    "    def printList(self):\n",
    "        temp = self.head\n",
    "        while (temp):\n",
    "            print(temp.data, end=\" \")\n",
    "            temp = temp.next\n",
    "\n",
    "# Create a linked list\n",
    "llist = LinkedList()\n",
    "llist.push(10)\n",
    "llist.push(20)\n",
    "llist.push(30)\n",
    "\n",
    "print(\"Created Linked List: \")\n",
    "llist.printList()\n",
    "\n",
    "llist.append(40)\n",
    "print(\"\\nAppended 40 to the list: \")\n",
    "llist.printList()\n",
    "\n",
    "llist.insertAfter(llist.head.next, 50)\n",
    "print(\"\\nInserted 50 after 20: \")\n",
    "llist.printList()"
   ]
  },
  {
   "cell_type": "markdown",
   "metadata": {},
   "source": [
    "4. Trees\n",
    "\n",
    "Hierarchical structure with a root node and child nodes.\n",
    "Types: Binary Trees, Binary Search Trees, Heaps, Tries, etc.\n",
    "Operations:\n",
    "insert: Adds a node to the tree.\n",
    "delete: Removes a node from the tree.\n",
    "search: Finds a node with a given value.\n",
    "traverse: Visits each node in a specific order (inorder, preorder, postorder)."
   ]
  },
  {
   "cell_type": "code",
   "execution_count": 3,
   "metadata": {},
   "outputs": [
    {
     "name": "stdout",
     "output_type": "stream",
     "text": [
      "Inorder Traversal of binary tree: \n",
      "4 2 5 1 3 "
     ]
    }
   ],
   "source": [
    "class TreeNode:\n",
    "    def __init__(self, val=0, left=None, right=None):\n",
    "        self.val = val\n",
    "        self.left = left\n",
    "        self.right = right\n",
    "\n",
    "class Tree:\n",
    "    def __init__(self, root=None):\n",
    "        self.root = root\n",
    "\n",
    "    def inorderTraversal(self, root):\n",
    "        if root:\n",
    "            self.inorderTraversal(root.left)\n",
    "            print(root.val, end=\" \")\n",
    "            self.inorderTraversal(root.right)\n",
    "\n",
    "# Create a binary tree\n",
    "root = TreeNode(1)\n",
    "root.left = TreeNode(2)\n",
    "root.right = TreeNode(3)\n",
    "root.left.left = TreeNode(4)\n",
    "root.left.right = TreeNode(5)\n",
    "\n",
    "tree = Tree(root)\n",
    "print(\"Inorder Traversal of binary tree: \")\n",
    "tree.inorderTraversal(root)"
   ]
  },
  {
   "cell_type": "markdown",
   "metadata": {},
   "source": [
    "5. Hash Tables\n",
    "\n",
    "Stores key-value pairs.\n",
    "Uses a hash function to map keys to indices in an array.\n",
    "Operations:\n",
    "insert: Adds a key-value pair.\n",
    "delete: Removes a key-value pair.\n",
    "search: Finds the value associated with a given key."
   ]
  },
  {
   "cell_type": "code",
   "execution_count": 5,
   "metadata": {},
   "outputs": [
    {
     "name": "stdout",
     "output_type": "stream",
     "text": [
      "banana\n"
     ]
    }
   ],
   "source": [
    "class HashTable:\n",
    "    def __init__(self, size):\n",
    "        self.size = size\n",
    "        self.table = [None] * size\n",
    "\n",
    "    def hash_function(self, key):\n",
    "        return key % self.size\n",
    "\n",
    "    def insert(self, key, value):\n",
    "        index = self.hash_function(key)\n",
    "        self.table[index] = value\n",
    "\n",
    "    def get(self, key):\n",
    "        index = self.hash_function(key)\n",
    "        return self.table[index]\n",
    "\n",
    "# Create a hash table\n",
    "hash_table = HashTable(10)\n",
    "hash_table.insert(1, \"apple\")\n",
    "hash_table.insert(2, \"banana\")\n",
    "hash_table.insert(3, \"cherry\")\n",
    "\n",
    "print(hash_table.get(2))  # Output: banana"
   ]
  },
  {
   "cell_type": "code",
   "execution_count": null,
   "metadata": {},
   "outputs": [],
   "source": []
  }
 ],
 "metadata": {
  "kernelspec": {
   "display_name": "Python 3",
   "language": "python",
   "name": "python3"
  },
  "language_info": {
   "codemirror_mode": {
    "name": "ipython",
    "version": 3
   },
   "file_extension": ".py",
   "mimetype": "text/x-python",
   "name": "python",
   "nbconvert_exporter": "python",
   "pygments_lexer": "ipython3",
   "version": "3.12.6"
  }
 },
 "nbformat": 4,
 "nbformat_minor": 2
}
